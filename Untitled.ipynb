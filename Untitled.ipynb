{
 "cells": [
  {
   "cell_type": "code",
   "execution_count": 2,
   "id": "077b0ca4",
   "metadata": {},
   "outputs": [
    {
     "ename": "ModuleNotFoundError",
     "evalue": "No module named 'myfuctions'",
     "output_type": "error",
     "traceback": [
      "\u001b[1;31m---------------------------------------------------------------------------\u001b[0m",
      "\u001b[1;31mModuleNotFoundError\u001b[0m                       Traceback (most recent call last)",
      "Input \u001b[1;32mIn [2]\u001b[0m, in \u001b[0;36m<cell line: 1>\u001b[1;34m()\u001b[0m\n\u001b[1;32m----> 1\u001b[0m \u001b[38;5;28;01mimport\u001b[39;00m \u001b[38;5;21;01mmyfuctions\u001b[39;00m\n",
      "\u001b[1;31mModuleNotFoundError\u001b[0m: No module named 'myfuctions'"
     ]
    }
   ],
   "source": [
    "import myfuctions"
   ]
  },
  {
   "cell_type": "code",
   "execution_count": 1,
   "id": "47a15216",
   "metadata": {},
   "outputs": [
    {
     "name": "stdout",
     "output_type": "stream",
     "text": [
      "Original Price: 444\n",
      "After Discount: 555\n"
     ]
    }
   ],
   "source": [
    "#Discounting Princing\n",
    "def discount (Price):\n",
    "    Item_Price = Price * (20/100)\n",
    "    return Item_Price\n",
    "Initial_price = int(input(\"Original Price: \"))\n",
    "discount_price = int(input(\"After Discount: \"))"
   ]
  },
  {
   "cell_type": "code",
   "execution_count": null,
   "id": "57b44a51",
   "metadata": {},
   "outputs": [],
   "source": [
    "#Discounting Princing\n",
    "def discount (Price):\n",
    "    Item_Price = Price * (20/100)\n",
    "    return Item_Price\n",
    "\n",
    "    if Price <= 0.05:\n",
    "        print(\"Opps! price values less than $0.05 unacceptable, please enter a new value: \")\n",
    "    else:\n",
    "        print(\"Your\")\n",
    "\n",
    "        total_price = discount(Banana)"
   ]
  },
  {
   "cell_type": "code",
   "execution_count": null,
   "id": "33c19a01",
   "metadata": {},
   "outputs": [],
   "source": []
  }
 ],
 "metadata": {
  "kernelspec": {
   "display_name": "Python 3 (ipykernel)",
   "language": "python",
   "name": "python3"
  },
  "language_info": {
   "codemirror_mode": {
    "name": "ipython",
    "version": 3
   },
   "file_extension": ".py",
   "mimetype": "text/x-python",
   "name": "python",
   "nbconvert_exporter": "python",
   "pygments_lexer": "ipython3",
   "version": "3.9.12"
  }
 },
 "nbformat": 4,
 "nbformat_minor": 5
}
