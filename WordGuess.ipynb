{
 "cells": [
  {
   "cell_type": "code",
   "execution_count": 1,
   "metadata": {},
   "outputs": [],
   "source": [
    "import random\n",
    "#import random first"
   ]
  },
  {
   "cell_type": "code",
   "execution_count": 2,
   "metadata": {},
   "outputs": [
    {
     "name": "stdout",
     "output_type": "stream",
     "text": [
      "This is Computer Word Guess. A random number would be choosen by the computer and you are required to guess which number it is.\n",
      "You can only try 3 times. \n",
      " Note! your score decreases with each trials\n"
     ]
    }
   ],
   "source": [
    "print (\"This is Computer Word Guess. A random number would be choosen by the computer and you are required to guess which number it is.\")\n",
    "print (\"You can only try 3 times. \\n Note! your score decreases with each trials\")\n",
    "#define the program"
   ]
  },
  {
   "cell_type": "code",
   "execution_count": 3,
   "metadata": {},
   "outputs": [],
   "source": [
    "number = random.randint(1, 99)\n",
    "guess = \"\"  \n",
    "# depend on user guess\n",
    "guess_count = 0\n",
    "guess_limit = 3\n",
    "score = 100\n",
    "#after 3 trials\n",
    "guess_out_of_range = False"
   ]
  },
  {
   "cell_type": "code",
   "execution_count": null,
   "metadata": {},
   "outputs": [
    {
     "name": "stdout",
     "output_type": "stream",
     "text": [
      "Enter a guess: \n",
      "Wrong input type! Value not supported\n"
     ]
    }
   ],
   "source": [
    "while guess != number and not guess_out_of_range:\n",
    "    #when guess is not equals to number and there is still trial\n",
    "    if guess_count < guess_limit:\n",
    "        try:\n",
    "            guess = int(input(\"Enter a guess: \"))\n",
    "        except ValueError as _:\n",
    "            print('Wrong input type! Value not supported')\n",
    "            #if user input an alphabet, sign etc\n",
    "            continue\n",
    "        guess_count += 1\n",
    "        if guess < number:\n",
    "            print(\"Ops! your guess is too small and your score has reduced by 10%. Try again.\")\n",
    "        elif guess > number:\n",
    "            print(\"Ops! Your guess is too high and your score has reduced by 10%. Try again.\")\n",
    "    else:\n",
    "        guess_out_of_range = True\n",
    "if guess_out_of_range:\n",
    "    print(\"You are out of guesses. You lose!\")\n",
    "else:\n",
    "    print(\"Your guess is correct. You score is\", Score)"
   ]
  }
 ],
 "metadata": {
  "kernelspec": {
   "display_name": "Python 3",
   "language": "python",
   "name": "python3"
  },
  "language_info": {
   "codemirror_mode": {
    "name": "ipython",
    "version": 3
   },
   "file_extension": ".py",
   "mimetype": "text/x-python",
   "name": "python",
   "nbconvert_exporter": "python",
   "pygments_lexer": "ipython3",
   "version": "3.8.3"
  }
 },
 "nbformat": 4,
 "nbformat_minor": 4
}
